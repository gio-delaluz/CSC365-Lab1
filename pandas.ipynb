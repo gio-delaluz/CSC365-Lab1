{
 "cells": [
  {
   "cell_type": "markdown",
   "metadata": {},
   "source": [
    "# Loading Data"
   ]
  },
  {
   "cell_type": "code",
   "execution_count": 4,
   "metadata": {},
   "outputs": [
    {
     "name": "stdout",
     "output_type": "stream",
     "text": [
      "<class 'pandas.core.frame.DataFrame'>\n",
      "RangeIndex: 12 entries, 0 to 11\n",
      "Data columns (total 3 columns):\n",
      " #   Column      Non-Null Count  Dtype \n",
      "---  ------      --------------  ----- \n",
      " 0   TLastName   12 non-null     object\n",
      " 1   TFirstName  12 non-null     object\n",
      " 2   Classroom   12 non-null     int64 \n",
      "dtypes: int64(1), object(2)\n",
      "memory usage: 420.0+ bytes\n"
     ]
    }
   ],
   "source": [
    "import pandas as pd\n",
    "\n",
    "df_students = pd.read_csv(\"list.txt\", sep=\",\", header=None,\n",
    "            names=[\"StLastName\", \"StFirstName\", \"Grade\", \"Classroom\",\"Bus\", \"GPA\"])\n",
    "\n",
    "df_teachers = pd.read_csv(\"teachers.txt\", sep=\",\", header=None, \n",
    "            names=['TLastName', 'TFirstName', 'Classroom'])\n",
    "\n",
    "df_teachers.head()\n",
    "df_teachers.info()"
   ]
  },
  {
   "cell_type": "markdown",
   "metadata": {},
   "source": [
    "# Data Cleaning"
   ]
  },
  {
   "cell_type": "code",
   "execution_count": null,
   "metadata": {},
   "outputs": [],
   "source": [
    "# Convert Grade, Classroom, and Bus into categorical variables\n",
    "df_students['Grade'] = df_students['Grade'].astype('category')\n",
    "df_students['Classroom'] = df_students['Classroom'].astype('category')\n",
    "df_students['Bus'] = df_students['Bus'].astype('category')"
   ]
  },
  {
   "cell_type": "code",
   "execution_count": null,
   "metadata": {},
   "outputs": [],
   "source": [
    "def convert_grade_to_level(grade):\n",
    "    if 0 <= grade <= 5:\n",
    "        return 'kindergarten'\n",
    "    elif 6 <= grade <= 8:\n",
    "        return 'middle school'\n",
    "    elif 9 <= grade <= 12:\n",
    "        return 'high school'\n",
    "    else:\n",
    "        return 'unknown'\n",
    "    \n",
    "df_students['Grade Level'] = df_students['Grade'].apply(convert_grade_to_level)\n",
    "df_students.info()"
   ]
  },
  {
   "cell_type": "markdown",
   "metadata": {},
   "source": [
    "# S[tudent]: <lastname> B[us] Implentation"
   ]
  },
  {
   "cell_type": "code",
   "execution_count": 6,
   "metadata": {},
   "outputs": [],
   "source": [
    "def searchStudent(lastname: str, bus=False):\n",
    "    df_found = df_students[df_students[\"StLastName\"] == lastname]\n",
    "    \n",
    "    if df_found.empty:\n",
    "        return\n",
    "    else:\n",
    "        # '_' means ignore index\n",
    "        for _, row in df_found.iterrows():\n",
    "            student_name = f\"{row['StFirstName'].lower().capitalize()} {row['StLastName'].lower().capitalize()}\"\n",
    "            if bus:\n",
    "                print(f\"{student_name}, who takes bus route {row['Bus']}.\")\n",
    "            else:\n",
    "                teacher_name = f\"{row['TFirstName'].lower().capitalize()} {row['TLastName'].lower().capitalize()}\"\n",
    "                print(f\"{student_name} is a {row['Grade Level']} student assigned to the class of {teacher_name}.\")"
   ]
  },
  {
   "cell_type": "markdown",
   "metadata": {},
   "source": [
    "# T[eacher]: Implementation"
   ]
  },
  {
   "cell_type": "code",
   "execution_count": 11,
   "metadata": {},
   "outputs": [],
   "source": [
    "def findTStudents(lastname: str):\n",
    "    df_found = df_students[df_students[\"TLastName\"] == lastname]\n",
    "\n",
    "    if df_found.empty:\n",
    "        return\n",
    "    else:\n",
    "        # '_' means ignore index\n",
    "        for _, row in df_found.iterrows():\n",
    "            student_name = f\"{row['StFirstName'].lower().capitalize()} {row['StLastName'].lower().capitalize()}\"\n",
    "            teacher_name = f\"{row['TFirstName'].lower().capitalize()} {row['TLastName'].lower().capitalize()}\"\n",
    "            print(f\"{student_name} is assigned to the class of {teacher_name}.\")"
   ]
  },
  {
   "cell_type": "markdown",
   "metadata": {},
   "source": [
    "# G[rade]: Implementation"
   ]
  },
  {
   "cell_type": "code",
   "execution_count": 9,
   "metadata": {},
   "outputs": [],
   "source": [
    "def findGStudents(number: int, low=False, high=False):\n",
    "    df_found = df_students[df_students[\"Grade\"] == number]\n",
    "\n",
    "    if df_found.empty:\n",
    "        return\n",
    "    else:\n",
    "        if not low and not high:\n",
    "            # '_' means ignore index\n",
    "            for _, row in df_found.iterrows():\n",
    "                student_name = f\"{row['StFirstName'].lower().capitalize()} {row['StLastName'].lower().capitalize()}\"\n",
    "                print(f\"{student_name} is in grade {row[\"Grade\"]}.\")\n",
    "        elif low:\n",
    "            # Row number of lowest GPA\n",
    "            min = df_found[\"GPA\"].idxmin()\n",
    "\n",
    "            student_first = f\"{df_found.at[min, \"StFirstName\"].lower().capitalize()}\"\n",
    "            student_last = f\"{df_found.at[min, \"StLastName\"].lower().capitalize()}\"\n",
    "            teacher_name = f\"{df_found.at[min, \"TFirstName\"].lower().capitalize()} {df_found.at[min, \"TLastName\"].lower().capitalize()}\"\n",
    "\n",
    "            print(f\"{student_first} {student_last}, \"\n",
    "            f\"who takes bus route {df_found.at[min, \"Bus\"]}, is assigned to the class of \"\n",
    "            f\"{teacher_name}. {student_first} \"\n",
    "            f\"has a GPA of {df_found.at[min, \"GPA\"]}.\")\n",
    "        elif high:\n",
    "            # Row number of highest GPA\n",
    "            max = df_found[\"GPA\"].idxmax()\n",
    "\n",
    "            student_first = f\"{df_found.at[max, \"StFirstName\"].lower().capitalize()}\"\n",
    "            student_last = f\"{df_found.at[max, \"StLastName\"].lower().capitalize()}\"\n",
    "            teacher_name = f\"{df_found.at[max, \"TFirstName\"].lower().capitalize()} {df_found.at[max, \"TLastName\"].lower().capitalize()}\"\n",
    "\n",
    "            print(f\"{student_first} {student_last}, \"\n",
    "            f\"who takes bus route {df_found.at[max, \"Bus\"]}, is assigned to the class of \"\n",
    "            f\"{df_found.at[max, \"TFirstName\"]} {df_found.at[max, \"TLastName\"]}. {student_first} \"\n",
    "            f\"has a GPA of {df_found.at[max, \"GPA\"]}.\")"
   ]
  },
  {
   "cell_type": "markdown",
   "metadata": {},
   "source": [
    "# B[us] Implementation"
   ]
  },
  {
   "cell_type": "code",
   "execution_count": null,
   "metadata": {},
   "outputs": [],
   "source": [
    "def findBus(busNum: int):\n",
    "    df_found = df_students[df_students['Bus'] == busNum]\n",
    "\n",
    "    if df_found.empty:\n",
    "        print('Empty')\n",
    "        return\n",
    "    \n",
    "    else:\n",
    "        for _, row in df_found.iterrows():\n",
    "            student_name = f\"{row['StFirstName'].lower().capitalize()} {row['StLastName'].lower().capitalize()}\"\n",
    "            print(f'{student_name} is a {row['Grade Level']} student in classroom {row['Classroom']}.')"
   ]
  },
  {
   "cell_type": "markdown",
   "metadata": {},
   "source": [
    "# A[verage] Implementation"
   ]
  },
  {
   "cell_type": "code",
   "execution_count": 10,
   "metadata": {},
   "outputs": [],
   "source": [
    "def findTStudents(number: str):\n",
    "    df_found = df_students[df_students[\"Grade\"] == number]\n",
    "\n",
    "    if df_found.empty:\n",
    "        return\n",
    "    else:\n",
    "        total = 0\n",
    "        num_rows = len(df_found.index)\n",
    "        # '_' means ignore index\n",
    "        for _, row in df_found.iterrows():\n",
    "            total += row[\"GPA\"]\n",
    "        avg = total / num_rows\n",
    "        # .2f formats to 2 decimal places\n",
    "        print(f\"Grade %d has average GPA of %.2f.\" % (number, avg))"
   ]
  },
  {
   "cell_type": "markdown",
   "metadata": {},
   "source": [
    "# I[nfo] Implementation"
   ]
  },
  {
   "cell_type": "code",
   "execution_count": null,
   "metadata": {},
   "outputs": [],
   "source": [
    "def getInfo():\n",
    "    num_grades = 7\n",
    "    for i in range(num_grades): \n",
    "        try:\n",
    "            total = df_students.groupby('Grade', observed=\"False\").size()[i]\n",
    "            print(f\"%d: %d\" % (i, total))\n",
    "        # If the value (grade) doesn't exist, a there will be a\n",
    "        # key error\n",
    "        except KeyError:\n",
    "            print(f\"%d: 0\" % i)"
   ]
  }
 ],
 "metadata": {
  "kernelspec": {
   "display_name": "venv",
   "language": "python",
   "name": "python3"
  },
  "language_info": {
   "codemirror_mode": {
    "name": "ipython",
    "version": 3
   },
   "file_extension": ".py",
   "mimetype": "text/x-python",
   "name": "python",
   "nbconvert_exporter": "python",
   "pygments_lexer": "ipython3",
   "version": "3.12.6"
  }
 },
 "nbformat": 4,
 "nbformat_minor": 2
}
