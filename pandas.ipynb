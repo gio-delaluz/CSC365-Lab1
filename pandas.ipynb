{
 "cells": [
  {
   "cell_type": "markdown",
   "metadata": {},
   "source": [
    "# Loading Data"
   ]
  },
  {
   "cell_type": "code",
   "execution_count": 3,
   "metadata": {},
   "outputs": [
    {
     "name": "stdout",
     "output_type": "stream",
     "text": [
      "  TLastName TFirstName  Classroom\n",
      "0      COOL     REUBEN        101\n",
      "1     KERBS     BENITO        102\n",
      "2    FALKER     ADOLPH        103\n",
      "3     STEIB       GALE        104\n",
      "4     HANTZ        JED        105\n"
     ]
    },
    {
     "data": {
      "text/html": [
       "<div>\n",
       "<style scoped>\n",
       "    .dataframe tbody tr th:only-of-type {\n",
       "        vertical-align: middle;\n",
       "    }\n",
       "\n",
       "    .dataframe tbody tr th {\n",
       "        vertical-align: top;\n",
       "    }\n",
       "\n",
       "    .dataframe thead th {\n",
       "        text-align: right;\n",
       "    }\n",
       "</style>\n",
       "<table border=\"1\" class=\"dataframe\">\n",
       "  <thead>\n",
       "    <tr style=\"text-align: right;\">\n",
       "      <th></th>\n",
       "      <th>StLastName</th>\n",
       "      <th>StFirstName</th>\n",
       "      <th>Grade</th>\n",
       "      <th>Classroom</th>\n",
       "      <th>Bus</th>\n",
       "      <th>GPA</th>\n",
       "    </tr>\n",
       "  </thead>\n",
       "  <tbody>\n",
       "    <tr>\n",
       "      <th>0</th>\n",
       "      <td>COOKUS</td>\n",
       "      <td>XUAN</td>\n",
       "      <td>3</td>\n",
       "      <td>107</td>\n",
       "      <td>52</td>\n",
       "      <td>3.07</td>\n",
       "    </tr>\n",
       "    <tr>\n",
       "      <th>1</th>\n",
       "      <td>SCHOENECKER</td>\n",
       "      <td>PHUONG</td>\n",
       "      <td>6</td>\n",
       "      <td>109</td>\n",
       "      <td>0</td>\n",
       "      <td>3.15</td>\n",
       "    </tr>\n",
       "    <tr>\n",
       "      <th>2</th>\n",
       "      <td>ELHADDAD</td>\n",
       "      <td>SHANTE</td>\n",
       "      <td>3</td>\n",
       "      <td>107</td>\n",
       "      <td>52</td>\n",
       "      <td>2.86</td>\n",
       "    </tr>\n",
       "    <tr>\n",
       "      <th>3</th>\n",
       "      <td>RACANELLO</td>\n",
       "      <td>NOEL</td>\n",
       "      <td>6</td>\n",
       "      <td>102</td>\n",
       "      <td>56</td>\n",
       "      <td>3.13</td>\n",
       "    </tr>\n",
       "    <tr>\n",
       "      <th>4</th>\n",
       "      <td>WOOLERY</td>\n",
       "      <td>NOLAN</td>\n",
       "      <td>2</td>\n",
       "      <td>104</td>\n",
       "      <td>51</td>\n",
       "      <td>2.92</td>\n",
       "    </tr>\n",
       "  </tbody>\n",
       "</table>\n",
       "</div>"
      ],
      "text/plain": [
       "    StLastName StFirstName  Grade  Classroom  Bus   GPA\n",
       "0       COOKUS        XUAN      3        107   52  3.07\n",
       "1  SCHOENECKER      PHUONG      6        109    0  3.15\n",
       "2     ELHADDAD      SHANTE      3        107   52  2.86\n",
       "3    RACANELLO        NOEL      6        102   56  3.13\n",
       "4      WOOLERY       NOLAN      2        104   51  2.92"
      ]
     },
     "execution_count": 3,
     "metadata": {},
     "output_type": "execute_result"
    }
   ],
   "source": [
    "import pandas as pd\n",
    "\n",
    "df_students = pd.read_csv(\"list.txt\", sep=\",\", header=None,\n",
    "            names=[\"StLastName\", \"StFirstName\", \"Grade\", \"Classroom\",\"Bus\", \"GPA\"])\n",
    "\n",
    "df_teachers = pd.read_csv(\"teachers.txt\", sep=\",\", header=None, \n",
    "            names=['TLastName', 'TFirstName', 'Classroom'])\n",
    "\n",
    "print(df_teachers.head())\n",
    "df_students.head()"
   ]
  },
  {
   "cell_type": "code",
   "execution_count": 4,
   "metadata": {},
   "outputs": [
    {
     "data": {
      "text/plain": [
       "count    60.000000\n",
       "mean      2.975333\n",
       "std       0.137428\n",
       "min       2.760000\n",
       "25%       2.867500\n",
       "50%       2.950000\n",
       "75%       3.102500\n",
       "max       3.240000\n",
       "Name: GPA, dtype: float64"
      ]
     },
     "execution_count": 4,
     "metadata": {},
     "output_type": "execute_result"
    }
   ],
   "source": [
    "df_students['GPA'].describe()"
   ]
  },
  {
   "cell_type": "markdown",
   "metadata": {},
   "source": [
    "# Data Cleaning"
   ]
  },
  {
   "cell_type": "code",
   "execution_count": null,
   "metadata": {},
   "outputs": [],
   "source": [
    "# Convert Grade, Classroom, and Bus into categorical variables\n",
    "df_students['Grade'] = df_students['Grade'].astype('category')\n",
    "df_students['Classroom'] = df_students['Classroom'].astype('category')\n",
    "df_students['Bus'] = df_students['Bus'].astype('category')"
   ]
  },
  {
   "cell_type": "code",
   "execution_count": null,
   "metadata": {},
   "outputs": [],
   "source": [
    "def convert_grade_to_level(grade):\n",
    "    if 0 <= grade <= 5:\n",
    "        return 'kindergarten'\n",
    "    elif 6 <= grade <= 8:\n",
    "        return 'middle school'\n",
    "    elif 9 <= grade <= 12:\n",
    "        return 'high school'\n",
    "    else:\n",
    "        return 'unknown'\n",
    "    \n",
    "df_students['Grade Level'] = df_students['Grade'].apply(convert_grade_to_level)\n",
    "df_students.info()"
   ]
  },
  {
   "cell_type": "markdown",
   "metadata": {},
   "source": [
    "# S[tudent]: <lastname> B[us] Implentation"
   ]
  },
  {
   "cell_type": "code",
   "execution_count": 6,
   "metadata": {},
   "outputs": [],
   "source": [
    "def searchStudent(lastname: str, bus=False):\n",
    "    df_found = df_students[df_students[\"StLastName\"] == lastname]\n",
    "    \n",
    "    if df_found.empty:\n",
    "        return\n",
    "    else:\n",
    "        # '_' means ignore index\n",
    "        for _, row in df_found.iterrows():\n",
    "            student_name = f\"{row['StFirstName'].lower().capitalize()} {row['StLastName'].lower().capitalize()}\"\n",
    "            if bus:\n",
    "                print(f\"{student_name}, who takes bus route {row['Bus']}.\")\n",
    "            else:\n",
    "                teacher_name = f\"{row['TFirstName'].lower().capitalize()} {row['TLastName'].lower().capitalize()}\"\n",
    "                print(f\"{student_name} is a {row['Grade Level']} student assigned to the class of {teacher_name}.\")"
   ]
  },
  {
   "cell_type": "markdown",
   "metadata": {},
   "source": [
    "# T[eacher]: Implementation"
   ]
  },
  {
   "cell_type": "code",
   "execution_count": 11,
   "metadata": {},
   "outputs": [],
   "source": [
    "def findTStudents(lastname: str):\n",
    "    df_found = df_students[df_students[\"TLastName\"] == lastname]\n",
    "\n",
    "    if df_found.empty:\n",
    "        return\n",
    "    else:\n",
    "        # '_' means ignore index\n",
    "        for _, row in df_found.iterrows():\n",
    "            student_name = f\"{row['StFirstName'].lower().capitalize()} {row['StLastName'].lower().capitalize()}\"\n",
    "            teacher_name = f\"{row['TFirstName'].lower().capitalize()} {row['TLastName'].lower().capitalize()}\"\n",
    "            print(f\"{student_name} is assigned to the class of {teacher_name}.\")"
   ]
  },
  {
   "cell_type": "markdown",
   "metadata": {},
   "source": [
    "# G[rade]: Implementation"
   ]
  },
  {
   "cell_type": "code",
   "execution_count": 9,
   "metadata": {},
   "outputs": [],
   "source": [
    "def findGStudents(number: int, low=False, high=False):\n",
    "    df_found = df_students[df_students[\"Grade\"] == number]\n",
    "\n",
    "    if df_found.empty:\n",
    "        return\n",
    "    else:\n",
    "        if not low and not high:\n",
    "            # '_' means ignore index\n",
    "            for _, row in df_found.iterrows():\n",
    "                student_name = f\"{row['StFirstName'].lower().capitalize()} {row['StLastName'].lower().capitalize()}\"\n",
    "                print(f\"{student_name} is in grade {row[\"Grade\"]}.\")\n",
    "        elif low:\n",
    "            # Row number of lowest GPA\n",
    "            min = df_found[\"GPA\"].idxmin()\n",
    "\n",
    "            student_first = f\"{df_found.at[min, \"StFirstName\"].lower().capitalize()}\"\n",
    "            student_last = f\"{df_found.at[min, \"StLastName\"].lower().capitalize()}\"\n",
    "            teacher_name = f\"{df_found.at[min, \"TFirstName\"].lower().capitalize()} {df_found.at[min, \"TLastName\"].lower().capitalize()}\"\n",
    "\n",
    "            print(f\"{student_first} {student_last}, \"\n",
    "            f\"who takes bus route {df_found.at[min, \"Bus\"]}, is assigned to the class of \"\n",
    "            f\"{teacher_name}. {student_first} \"\n",
    "            f\"has a GPA of {df_found.at[min, \"GPA\"]}.\")\n",
    "        elif high:\n",
    "            # Row number of highest GPA\n",
    "            max = df_found[\"GPA\"].idxmax()\n",
    "\n",
    "            student_first = f\"{df_found.at[max, \"StFirstName\"].lower().capitalize()}\"\n",
    "            student_last = f\"{df_found.at[max, \"StLastName\"].lower().capitalize()}\"\n",
    "            teacher_name = f\"{df_found.at[max, \"TFirstName\"].lower().capitalize()} {df_found.at[max, \"TLastName\"].lower().capitalize()}\"\n",
    "\n",
    "            print(f\"{student_first} {student_last}, \"\n",
    "            f\"who takes bus route {df_found.at[max, \"Bus\"]}, is assigned to the class of \"\n",
    "            f\"{df_found.at[max, \"TFirstName\"]} {df_found.at[max, \"TLastName\"]}. {student_first} \"\n",
    "            f\"has a GPA of {df_found.at[max, \"GPA\"]}.\")"
   ]
  },
  {
   "cell_type": "markdown",
   "metadata": {},
   "source": [
    "# B[us] Implementation"
   ]
  },
  {
   "cell_type": "code",
   "execution_count": null,
   "metadata": {},
   "outputs": [],
   "source": [
    "def findBus(busNum: int):\n",
    "    df_found = df_students[df_students['Bus'] == busNum]\n",
    "\n",
    "    if df_found.empty:\n",
    "        print('Empty')\n",
    "        return\n",
    "    \n",
    "    else:\n",
    "        for _, row in df_found.iterrows():\n",
    "            student_name = f\"{row['StFirstName'].lower().capitalize()} {row['StLastName'].lower().capitalize()}\"\n",
    "            print(f'{student_name} is a {row['Grade Level']} student in classroom {row['Classroom']}.')"
   ]
  },
  {
   "cell_type": "markdown",
   "metadata": {},
   "source": [
    "# A[verage] Implementation"
   ]
  },
  {
   "cell_type": "code",
   "execution_count": 10,
   "metadata": {},
   "outputs": [],
   "source": [
    "def findTStudents(number: str):\n",
    "    df_found = df_students[df_students[\"Grade\"] == number]\n",
    "\n",
    "    if df_found.empty:\n",
    "        return\n",
    "    else:\n",
    "        total = 0\n",
    "        num_rows = len(df_found.index)\n",
    "        # '_' means ignore index\n",
    "        for _, row in df_found.iterrows():\n",
    "            total += row[\"GPA\"]\n",
    "        avg = total / num_rows\n",
    "        # .2f formats to 2 decimal places\n",
    "        print(f\"Grade %d has average GPA of %.2f.\" % (number, avg))"
   ]
  },
  {
   "cell_type": "markdown",
   "metadata": {},
   "source": [
    "# I[nfo] Implementation"
   ]
  },
  {
   "cell_type": "code",
   "execution_count": null,
   "metadata": {},
   "outputs": [],
   "source": [
    "def getInfo():\n",
    "    num_grades = 7\n",
    "    for i in range(num_grades): \n",
    "        try:\n",
    "            total = df_students.groupby('Grade', observed=\"False\").size()[i]\n",
    "            print(f\"%d: %d\" % (i, total))\n",
    "        # If the value (grade) doesn't exist, a there will be a\n",
    "        # key error\n",
    "        except KeyError:\n",
    "            print(f\"%d: 0\" % i)"
   ]
  }
 ],
 "metadata": {
  "kernelspec": {
   "display_name": "venv",
   "language": "python",
   "name": "python3"
  },
  "language_info": {
   "codemirror_mode": {
    "name": "ipython",
    "version": 3
   },
   "file_extension": ".py",
   "mimetype": "text/x-python",
   "name": "python",
   "nbconvert_exporter": "python",
   "pygments_lexer": "ipython3",
   "version": "3.12.6"
  }
 },
 "nbformat": 4,
 "nbformat_minor": 2
}
