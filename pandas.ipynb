{
 "cells": [
  {
   "cell_type": "markdown",
   "metadata": {},
   "source": [
    "# Loading Data"
   ]
  },
  {
   "cell_type": "code",
   "execution_count": 9,
   "metadata": {},
   "outputs": [
    {
     "name": "stdout",
     "output_type": "stream",
     "text": [
      "<class 'pandas.core.frame.DataFrame'>\n",
      "RangeIndex: 60 entries, 0 to 59\n",
      "Data columns (total 8 columns):\n",
      " #   Column       Non-Null Count  Dtype  \n",
      "---  ------       --------------  -----  \n",
      " 0   StLastName   60 non-null     object \n",
      " 1   StFirstName  60 non-null     object \n",
      " 2   Grade        60 non-null     int64  \n",
      " 3   Classroom    60 non-null     int64  \n",
      " 4   Bus          60 non-null     int64  \n",
      " 5   GPA          60 non-null     float64\n",
      " 6   TLastName    60 non-null     object \n",
      " 7   TFirstName   60 non-null     object \n",
      "dtypes: float64(1), int64(3), object(4)\n",
      "memory usage: 3.9+ KB\n",
      "None\n"
     ]
    },
    {
     "data": {
      "text/html": [
       "<div>\n",
       "<style scoped>\n",
       "    .dataframe tbody tr th:only-of-type {\n",
       "        vertical-align: middle;\n",
       "    }\n",
       "\n",
       "    .dataframe tbody tr th {\n",
       "        vertical-align: top;\n",
       "    }\n",
       "\n",
       "    .dataframe thead th {\n",
       "        text-align: right;\n",
       "    }\n",
       "</style>\n",
       "<table border=\"1\" class=\"dataframe\">\n",
       "  <thead>\n",
       "    <tr style=\"text-align: right;\">\n",
       "      <th></th>\n",
       "      <th>StLastName</th>\n",
       "      <th>StFirstName</th>\n",
       "      <th>Grade</th>\n",
       "      <th>Classroom</th>\n",
       "      <th>Bus</th>\n",
       "      <th>GPA</th>\n",
       "      <th>TLastName</th>\n",
       "      <th>TFirstName</th>\n",
       "    </tr>\n",
       "  </thead>\n",
       "  <tbody>\n",
       "    <tr>\n",
       "      <th>0</th>\n",
       "      <td>COOKUS</td>\n",
       "      <td>XUAN</td>\n",
       "      <td>3</td>\n",
       "      <td>107</td>\n",
       "      <td>52</td>\n",
       "      <td>3.07</td>\n",
       "      <td>FAFARD</td>\n",
       "      <td>ROCIO</td>\n",
       "    </tr>\n",
       "    <tr>\n",
       "      <th>1</th>\n",
       "      <td>SCHOENECKER</td>\n",
       "      <td>PHUONG</td>\n",
       "      <td>6</td>\n",
       "      <td>109</td>\n",
       "      <td>0</td>\n",
       "      <td>3.15</td>\n",
       "      <td>GAMBREL</td>\n",
       "      <td>JAE</td>\n",
       "    </tr>\n",
       "    <tr>\n",
       "      <th>2</th>\n",
       "      <td>ELHADDAD</td>\n",
       "      <td>SHANTE</td>\n",
       "      <td>3</td>\n",
       "      <td>107</td>\n",
       "      <td>52</td>\n",
       "      <td>2.86</td>\n",
       "      <td>FAFARD</td>\n",
       "      <td>ROCIO</td>\n",
       "    </tr>\n",
       "    <tr>\n",
       "      <th>3</th>\n",
       "      <td>RACANELLO</td>\n",
       "      <td>NOEL</td>\n",
       "      <td>6</td>\n",
       "      <td>102</td>\n",
       "      <td>56</td>\n",
       "      <td>3.13</td>\n",
       "      <td>KERBS</td>\n",
       "      <td>BENITO</td>\n",
       "    </tr>\n",
       "    <tr>\n",
       "      <th>4</th>\n",
       "      <td>WOOLERY</td>\n",
       "      <td>NOLAN</td>\n",
       "      <td>2</td>\n",
       "      <td>104</td>\n",
       "      <td>51</td>\n",
       "      <td>2.92</td>\n",
       "      <td>STEIB</td>\n",
       "      <td>GALE</td>\n",
       "    </tr>\n",
       "  </tbody>\n",
       "</table>\n",
       "</div>"
      ],
      "text/plain": [
       "    StLastName StFirstName  Grade  Classroom  Bus   GPA TLastName TFirstName\n",
       "0       COOKUS        XUAN      3        107   52  3.07    FAFARD      ROCIO\n",
       "1  SCHOENECKER      PHUONG      6        109    0  3.15   GAMBREL        JAE\n",
       "2     ELHADDAD      SHANTE      3        107   52  2.86    FAFARD      ROCIO\n",
       "3    RACANELLO        NOEL      6        102   56  3.13     KERBS     BENITO\n",
       "4      WOOLERY       NOLAN      2        104   51  2.92     STEIB       GALE"
      ]
     },
     "execution_count": 9,
     "metadata": {},
     "output_type": "execute_result"
    }
   ],
   "source": [
    "import pandas as pd\n",
    "\n",
    "df_students = pd.read_csv(\"students.txt\", sep=\",\", header=None,names=[\"StLastName\", \"StFirstName\", \"Grade\", \"Classroom\",\"Bus\", \"GPA\", \"TLastName\", \"TFirstName\"])\n",
    "\n",
    "print(df_students.info())\n",
    "df_students.head()"
   ]
  },
  {
   "cell_type": "markdown",
   "metadata": {},
   "source": [
    "# Data Cleaning"
   ]
  },
  {
   "cell_type": "code",
   "execution_count": 10,
   "metadata": {},
   "outputs": [
    {
     "ename": "NameError",
     "evalue": "name 'df_student' is not defined",
     "output_type": "error",
     "traceback": [
      "\u001b[0;31m---------------------------------------------------------------------------\u001b[0m",
      "\u001b[0;31mNameError\u001b[0m                                 Traceback (most recent call last)",
      "Cell \u001b[0;32mIn[10], line 2\u001b[0m\n\u001b[1;32m      1\u001b[0m \u001b[38;5;66;03m# Convert Grade, Classroom, and Bus into categorical variables\u001b[39;00m\n\u001b[0;32m----> 2\u001b[0m df_student[\u001b[38;5;124m'\u001b[39m\u001b[38;5;124mGrade\u001b[39m\u001b[38;5;124m'\u001b[39m] \u001b[38;5;241m=\u001b[39m \u001b[43mdf_student\u001b[49m[\u001b[38;5;124m'\u001b[39m\u001b[38;5;124mGrade\u001b[39m\u001b[38;5;124m'\u001b[39m]\u001b[38;5;241m.\u001b[39mastype(\u001b[38;5;124m'\u001b[39m\u001b[38;5;124mcategory\u001b[39m\u001b[38;5;124m'\u001b[39m)\n\u001b[1;32m      3\u001b[0m df_student[\u001b[38;5;124m'\u001b[39m\u001b[38;5;124mClassroom\u001b[39m\u001b[38;5;124m'\u001b[39m] \u001b[38;5;241m=\u001b[39m df_student[\u001b[38;5;124m'\u001b[39m\u001b[38;5;124mClassroom\u001b[39m\u001b[38;5;124m'\u001b[39m]\u001b[38;5;241m.\u001b[39mastype(\u001b[38;5;124m'\u001b[39m\u001b[38;5;124mcategory\u001b[39m\u001b[38;5;124m'\u001b[39m)\n\u001b[1;32m      4\u001b[0m df_student[\u001b[38;5;124m'\u001b[39m\u001b[38;5;124mBus\u001b[39m\u001b[38;5;124m'\u001b[39m] \u001b[38;5;241m=\u001b[39m df_student[\u001b[38;5;124m'\u001b[39m\u001b[38;5;124mBus\u001b[39m\u001b[38;5;124m'\u001b[39m]\u001b[38;5;241m.\u001b[39mastype(\u001b[38;5;124m'\u001b[39m\u001b[38;5;124mcategory\u001b[39m\u001b[38;5;124m'\u001b[39m)\n",
      "\u001b[0;31mNameError\u001b[0m: name 'df_student' is not defined"
     ]
    }
   ],
   "source": [
    "# Convert Grade, Classroom, and Bus into categorical variables\n",
    "df_student['Grade'] = df_student['Grade'].astype('category')\n",
    "df_student['Classroom'] = df_student['Classroom'].astype('category')\n",
    "df_student['Bus'] = df_student['Bus'].astype('category')\n",
    "df_student.info()"
   ]
  },
  {
   "cell_type": "markdown",
   "metadata": {},
   "source": [
    "# S[tudent]: <lastname> B[us] Implentation"
   ]
  },
  {
   "cell_type": "code",
   "execution_count": 1,
   "metadata": {},
   "outputs": [],
   "source": [
    "def findStudents(lastname: str, bus=False):\n",
    "    df_found = df_students[df_students[\"StLastName\"] == lastname]\n",
    "    \n",
    "    if df_found.empty:\n",
    "        return\n",
    "    else:\n",
    "        for _, row in df_found.iterrows():\n",
    "            if bus:\n",
    "                print(f\"{row[\"StFirstName\"]} {row[\"StLastName\"]}, who takes bus route {row[\"Bus\"]}.\")\n",
    "            else:\n",
    "                print(f\"{row[\"StFirstName\"]} {row[\"StLastName\"]} is a {row[\"Grade\"]} student assigned to the class of {row[\"TFirstName\"]}, {row[\"TLastName\"]}\")"
   ]
  },
  {
   "cell_type": "markdown",
   "metadata": {},
   "source": [
    "# T[eacher]: Implementation"
   ]
  },
  {
   "cell_type": "code",
   "execution_count": 7,
   "metadata": {},
   "outputs": [],
   "source": [
    "def findTStudents(lastname: str):\n",
    "    df_found = df_students[df_students[\"TLastName\"] == lastname]\n",
    "\n",
    "    if df_found.empty:\n",
    "        return\n",
    "    else:\n",
    "        # '_' means ignore index\n",
    "        for _, row in df_found.iterrows():\n",
    "            print(f\"{row[\"StFirstName\"]} {row[\"StLastName\"]} is assigned to the class of {row[\"TFirstName\"]} {row[\"TLastName\"]}.\")"
   ]
  },
  {
   "cell_type": "markdown",
   "metadata": {},
   "source": [
    "# G[rade]: Implementation"
   ]
  },
  {
   "cell_type": "code",
   "execution_count": 8,
   "metadata": {},
   "outputs": [
    {
     "ename": "SyntaxError",
     "evalue": "closing parenthesis ')' does not match opening parenthesis '[' (4219210382.py, line 13)",
     "output_type": "error",
     "traceback": [
      "\u001b[0;36m  Cell \u001b[0;32mIn[8], line 13\u001b[0;36m\u001b[0m\n\u001b[0;31m    print(f\"{row[\"StFirstName\"]} {row[\"StLastName\"]}, who takes bus route {row[\"Bus\"]}, is assigned to the class of {row[\"TFirstName\"]} {row[TLastName\"]}\")\u001b[0m\n\u001b[0m                                                                                                                                                          ^\u001b[0m\n\u001b[0;31mSyntaxError\u001b[0m\u001b[0;31m:\u001b[0m closing parenthesis ')' does not match opening parenthesis '['\n"
     ]
    }
   ],
   "source": [
    "def findGStudents(number: int, low=False, high=False):\n",
    "    df_found = df_students[df_students[\"Grade\"] == number]\n",
    "\n",
    "    if df_found.empty:\n",
    "        return\n",
    "    else:\n",
    "        if not low and not high:\n",
    "            # '_' means ignore index\n",
    "            for _, row in df_found.iterrows():\n",
    "                print(f\"{row[\"StFirstName\"]} {row[\"StLastName\"]} is in grade {row[\"Grade\"]}.\")\n",
    "        elif low:\n",
    "            # Row number of lowest GPA\n",
    "            min = df_found[\"GPA\"].idxmin()\n",
    "            print(f\"{df_found.loc[min, \"StFirstName\"]} {df_found.loc[min, \"StLastName\"]}, \"\n",
    "            f\"who takes bus route {df_found.loc[min, \"Bus\"]}, is assigned to the class of \"\n",
    "            f\"{df_found.loc[min, \"TFirstName\"]} {df_found.loc[min, \"TLastName\"]}. {df_found.loc[min, \"StFirstName\"]} \"\n",
    "            f\"has a GPA of {df_found.loc[min, \"GPA\"]}.\")\n",
    "        elif high:\n",
    "            # Row number of highest GPA\n",
    "            max = df_found[\"GPA\"].idxmax()\n",
    "            print(f\"{df_found.loc[max, \"StFirstName\"]} {df_found.loc[max, \"StLastName\"]}, \"\n",
    "            f\"who takes bus route {df_found.loc[max, \"Bus\"]}, is assigned to the class of \"\n",
    "            f\"{df_found.loc[max, \"TFirstName\"]} {df_found.loc[max, \"TLastName\"]}. {df_found.loc[max, \"StFirstName\"]} \"\n",
    "            f\"has a GPA of {df_found.loc[max, \"GPA\"]}.\")"
   ]
  },
  {
   "cell_type": "markdown",
   "metadata": {},
   "source": [
    "# A[verage] Implementation"
   ]
  },
  {
   "cell_type": "code",
   "execution_count": null,
   "metadata": {},
   "outputs": [],
   "source": [
    "def findTStudents(number: str):\n",
    "    df_found = df_students[df_students[\"Grade\"] == number]\n",
    "\n",
    "    if df_found.empty:\n",
    "        return\n",
    "    else:\n",
    "        total = 0\n",
    "        num_rows = len(df_found.index)\n",
    "        # '_' means ignore index\n",
    "        for _, row in df_found.iterrows():\n",
    "            total += row[\"GPA\"]\n",
    "        avg = total / num_rows\n",
    "        # .2f formats to 2 decimal places\n",
    "        print(f\"Grade %d has average GPA of %.2f.\" % (number, avg))"
   ]
  }
 ],
 "metadata": {
  "kernelspec": {
   "display_name": "venv",
   "language": "python",
   "name": "python3"
  },
  "language_info": {
   "codemirror_mode": {
    "name": "ipython",
    "version": 3
   },
   "file_extension": ".py",
   "mimetype": "text/x-python",
   "name": "python",
   "nbconvert_exporter": "python",
   "pygments_lexer": "ipython3",
   "version": "3.12.6"
  }
 },
 "nbformat": 4,
 "nbformat_minor": 2
}
