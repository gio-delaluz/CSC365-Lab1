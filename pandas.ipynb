{
 "cells": [
  {
   "cell_type": "markdown",
   "metadata": {},
   "source": [
    "# Loading Data"
   ]
  },
  {
   "cell_type": "code",
   "execution_count": null,
   "metadata": {},
   "outputs": [],
   "source": [
    "import pandas as pd\n",
    "\n",
    "df_students = pd.read_csv(\"students.txt\", sep=\",\", header=None,names=[\"StLastName\", \"StFirstName\", \"Grade\", \"Classroom\",\"Bus\", \"GPA\", \"TLastName\", \"TFirstName\"])\n",
    "\n",
    "print(df_students.info())\n",
    "df_students.head()"
   ]
  },
  {
   "cell_type": "markdown",
   "metadata": {},
   "source": [
    "# Data Cleaning"
   ]
  },
  {
   "cell_type": "code",
   "execution_count": null,
   "metadata": {},
   "outputs": [],
   "source": [
    "# Convert Grade, Classroom, and Bus into categorical variables\n",
    "df_students['Grade'] = df_students['Grade'].astype('category')\n",
    "df_students['Classroom'] = df_students['Classroom'].astype('category')\n",
    "df_students['Bus'] = df_students['Bus'].astype('category')\n",
    "df_students.info()\n",
    "df_students['Grade'].value_counts()\n",
    "\n",
    "def convert_grade_to_level(grade):\n",
    "    if 0 <= grade <= 5:\n",
    "        return 'kindergarten'\n",
    "    elif 6 <= grade <= 8:\n",
    "        return 'middle school'\n",
    "    elif 9 <= grade <= 12:\n",
    "        return 'high school'\n",
    "    else:\n",
    "        return 'Unknown'\n",
    "    \n",
    "df_students['Grade Level'] = df_students['Grade'].apply(convert_grade_to_level)\n",
    "df_students.head()    "
   ]
  },
  {
   "cell_type": "markdown",
   "metadata": {},
   "source": [
    "# S[tudent]: <lastname> B[us] Implentation"
   ]
  },
  {
   "cell_type": "code",
   "execution_count": 1,
   "metadata": {},
   "outputs": [],
   "source": [
    "def findStudents(lastname: str, bus=False):\n",
    "    df_found = df_students[df_students[\"StLastName\"] == lastname]\n",
    "    \n",
    "    if df_found.empty:\n",
    "        return\n",
    "    else:\n",
    "        for _, row in df_found.iterrows():\n",
    "            student_name = f\"{row['StFirstName'].lower().capitalize()} {row['StLastName'].lower().capitalize()}\"\n",
    "            if bus:\n",
    "                print(f\"{student_name}, who takes bus route {row['Bus']}.\")\n",
    "            else:\n",
    "                teacher_name = f\"{row['TFirstName'].lower().capitalize()} {row['TLastName'].lower().capitalize()}\"\n",
    "                print(f\"{student_name} is a {row['Grade Level']} student assigned to the class of {teacher_name}.\")"
   ]
  }
 ],
 "metadata": {
  "kernelspec": {
   "display_name": "venv",
   "language": "python",
   "name": "python3"
  },
  "language_info": {
   "codemirror_mode": {
    "name": "ipython",
    "version": 3
   },
   "file_extension": ".py",
   "mimetype": "text/x-python",
   "name": "python",
   "nbconvert_exporter": "python",
   "pygments_lexer": "ipython3",
   "version": "3.12.6"
  }
 },
 "nbformat": 4,
 "nbformat_minor": 2
}
